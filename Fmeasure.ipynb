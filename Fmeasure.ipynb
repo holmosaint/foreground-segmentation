{
 "cells": [
  {
   "cell_type": "code",
   "execution_count": 1,
   "metadata": {},
   "outputs": [],
   "source": [
    "import cv2\n",
    "import numpy as np"
   ]
  },
  {
   "cell_type": "code",
   "execution_count": 12,
   "metadata": {},
   "outputs": [],
   "source": [
    "\"\"\"img, img_gt should be binary numpy ndarray, where 0 is foreground, 1 is background\"\"\"\n",
    "def cal_F(img, img_gt):\n",
    "    img_sum = img.sum()\n",
    "    gt_sum = img_gt.sum()\n",
    "    \n",
    "    cross_img = np.logical_and(img, img_gt).astype(np.int)\n",
    "    cross_sum = cross_img.sum()\n",
    "    \n",
    "    precision = cross_sum / img_sum\n",
    "    recall = cross_sum / gt_sum\n",
    "    \n",
    "    fscore = 2 * precision * recall / (precision + recall)\n",
    "    return fscore    "
   ]
  },
  {
   "cell_type": "code",
   "execution_count": 13,
   "metadata": {},
   "outputs": [
    {
     "name": "stdout",
     "output_type": "stream",
     "text": [
      "0.8\n"
     ]
    }
   ],
   "source": [
    "print(cal_)"
   ]
  }
 ],
 "metadata": {
  "kernelspec": {
   "display_name": "Python 3",
   "language": "python",
   "name": "python3"
  },
  "language_info": {
   "codemirror_mode": {
    "name": "ipython",
    "version": 3
   },
   "file_extension": ".py",
   "mimetype": "text/x-python",
   "name": "python",
   "nbconvert_exporter": "python",
   "pygments_lexer": "ipython3",
   "version": "3.7.3"
  }
 },
 "nbformat": 4,
 "nbformat_minor": 2
}
